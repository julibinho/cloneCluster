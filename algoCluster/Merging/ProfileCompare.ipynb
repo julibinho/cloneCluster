{
 "cells": [
  {
   "cell_type": "code",
   "execution_count": 1,
   "metadata": {},
   "outputs": [],
   "source": [
    "import sys\n",
    "import numpy as np\n",
    "import collections as coll\n",
    "\n",
    "aa = ['A', 'C', 'G', 'T']\n",
    "q = 4\n"
   ]
  },
  {
   "cell_type": "code",
   "execution_count": 2,
   "metadata": {},
   "outputs": [
    {
     "name": "stdout",
     "output_type": "stream",
     "text": [
      "[0.1111111111111111, 0.2222222222222222, 0.18518518518518517, 0.48148148148148145]\n"
     ]
    }
   ],
   "source": [
    "\n",
    "P1 = np.array([['A', 'T', 'G'], ['C',  'T', 'T'], ['A',  'C', 'T']])\n",
    "P2 = np.array([['T', 'G', 'C'], ['T',  'A', 'C'], ['C',  'G', 'C']])\n",
    "P3 = np.array([['T', 'T', 'T'], ['T',  'G', 'T'], ['G',  'T', 'T']])\n",
    "\n",
    "p = [0]*len(aa)\n",
    "count = 0\n",
    "for profile in [P1,P2,P3]:\n",
    "    for seq in profile:\n",
    "        for n in seq:\n",
    "            p[aa.index(n)] +=1\n",
    "            count +=1\n",
    "for i in range(len(p)):\n",
    "    p[i] = p[i]/count\n",
    "print(p)"
   ]
  },
  {
   "cell_type": "code",
   "execution_count": 3,
   "metadata": {
    "scrolled": true
   },
   "outputs": [
    {
     "data": {
      "text/plain": [
       "array([[0.42857143, 0.14285714, 0.14285714],\n",
       "       [0.28571429, 0.28571429, 0.14285714],\n",
       "       [0.14285714, 0.14285714, 0.28571429],\n",
       "       [0.14285714, 0.42857143, 0.42857143]])"
      ]
     },
     "execution_count": 3,
     "metadata": {},
     "output_type": "execute_result"
    }
   ],
   "source": [
    "#Computing Qi(a)\n",
    "def get_Q(P, q, aa):\n",
    "\tL = np.size(P,1) #nombre de colonnes\n",
    "\t#print(q, L)\n",
    "\tPWM = np.zeros((q, L))\n",
    "\tfor i in range(L):\n",
    "\t\tcol_i = P[:,i]\n",
    "\t\tfreq = coll.Counter(col_i) \n",
    "\t\t#print(freq)\n",
    "\t\tfor j, a in enumerate(aa): \n",
    "\t\t\t#print(j,a, freq[a])\n",
    "\t\t\tPWM[j][i] = freq[a]\n",
    "\tPWM = PWM + 1\n",
    "\t#print(PWM)\n",
    "\treturn (PWM)/(np.sum(PWM, axis=0))\n",
    "\n",
    "get_Q(P1,q, aa)\n",
    "\n"
   ]
  },
  {
   "cell_type": "code",
   "execution_count": 4,
   "metadata": {},
   "outputs": [],
   "source": [
    "def p_calcule(PWM):\n",
    "\treturn [(sum(PWM[i,:])/np.size(PWM,1)) for i in range(len(aa))]\n",
    "\n",
    "def dotProd(P1, P2):\n",
    "    L = np.size(P1,1)\n",
    "    N = np.size(P1,0)\n",
    "    s=0\n",
    "    for j in range(L):\n",
    "        for i in range(N):\n",
    "            #print (P1[i][j], P2[i][j])\n",
    "            s = s + P1[i][j]*P2[i][j]\n",
    "    return s\n",
    "\n",
    "def wa(Q, p):\n",
    "    L = np.size(Q,1)\n",
    "    N = np.size(Q,0)\n",
    "    W = np.zeros((N, L))\n",
    "    s=0\n",
    "    for j in range(L):\n",
    "        for i in range(N):\n",
    "            W[i][j] = np.log(Q[i][j]/p[i])\n",
    "    return W"
   ]
  },
  {
   "cell_type": "code",
   "execution_count": 5,
   "metadata": {
    "scrolled": true
   },
   "outputs": [
    {
     "name": "stdout",
     "output_type": "stream",
     "text": [
      "[[0.42857143 0.14285714 0.14285714]\n",
      " [0.28571429 0.28571429 0.14285714]\n",
      " [0.14285714 0.14285714 0.28571429]\n",
      " [0.14285714 0.42857143 0.42857143]] [[0.14285714 0.28571429 0.14285714]\n",
      " [0.28571429 0.14285714 0.57142857]\n",
      " [0.14285714 0.42857143 0.14285714]\n",
      " [0.42857143 0.14285714 0.14285714]]\n"
     ]
    }
   ],
   "source": [
    "Q1 = get_Q(P1, q, aa); \n",
    "#print (Q1, np.sum(Q1, axis=0))\n",
    "Q2 = get_Q(P2, q, aa);\n",
    "print(Q1, Q2)\n",
    "#print (Q2, np.sum(Q2, axis=0))\n",
    "#p1 = p_calcule(Q1)\n",
    "#p2 = p_calcule(Q2)\n",
    "\n",
    "#print (dotProd(Q1, Q2))\n"
   ]
  },
  {
   "cell_type": "code",
   "execution_count": 6,
   "metadata": {},
   "outputs": [
    {
     "name": "stdout",
     "output_type": "stream",
     "text": [
      "S10 score when profiles are identical 0.9183673469387755\n",
      "S10 score when profiles are very different 0.6326530612244898\n",
      "S11 score when profiles are identical 4.0962691352749925\n",
      "S11 score when profiles are very different 0.33597793559191974\n"
     ]
    }
   ],
   "source": [
    "#formule 10\n",
    "S10 = dotProd(Q1, Q1)\n",
    "print (\"S10 score when profiles are identical\", S10)\n",
    "\n",
    "S10 = dotProd(Q1, Q2)\n",
    "print (\"S10 score when profiles are very different\", S10)\n",
    "\n",
    "\n",
    "#formule 11\n",
    "W1 = wa(Q1,p)\n",
    "W2 = wa(Q2,p)\n",
    "\n",
    "\n",
    "S11 = dotProd(W1, W1)\n",
    "print (\"S11 score when profiles are identical\", S11)\n",
    "\n",
    "S11 = dotProd(W1, W2)\n",
    "print (\"S11 score when profiles are very different\", S11)\n"
   ]
  },
  {
   "cell_type": "code",
   "execution_count": 7,
   "metadata": {},
   "outputs": [
    {
     "name": "stdout",
     "output_type": "stream",
     "text": [
      "4.0962691352749925 5.973602637399168 1.2749885065445643\n"
     ]
    }
   ],
   "source": [
    "Q3 = get_Q(P3, q, aa);\n",
    "#p3 = p_calcule(Q3);\n",
    "W3 = wa(Q3,p);\n",
    "\n",
    "S11_1 = dotProd(W1, W1);\n",
    "S11_2 = dotProd(W2, W2);\n",
    "S11_3 = dotProd(W3, W3);\n",
    "\n",
    "print(S11_1, S11_2, S11_3)"
   ]
  }
 ],
 "metadata": {
  "celltoolbar": "Raw Cell Format",
  "kernelspec": {
   "display_name": "Python 3",
   "language": "python",
   "name": "python3"
  },
  "language_info": {
   "codemirror_mode": {
    "name": "ipython",
    "version": 3
   },
   "file_extension": ".py",
   "mimetype": "text/x-python",
   "name": "python",
   "nbconvert_exporter": "python",
   "pygments_lexer": "ipython3",
   "version": "3.8.2"
  }
 },
 "nbformat": 4,
 "nbformat_minor": 2
}
